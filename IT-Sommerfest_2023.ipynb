{
 "cells": [
  {
   "cell_type": "markdown",
   "id": "meaning-factor",
   "metadata": {},
   "source": [
    "[IT-Sommerfest 2023](https://schulen-jupyter.inf.hszg.de/hub/user-redirect/git-pull?repo=https%3A%2F%2Fgithub.com%2Fdanielmpla%2Fit-sommerfest-2023&urlpath=lab%2Ftree%2Fit-sommerfest-2023%2FIntroduction.ipynb&branch=main)"
   ]
  }
 ],
 "metadata": {
  "kernelspec": {
   "display_name": "Python 3 (ipykernel)",
   "language": "python",
   "name": "python3"
  },
  "language_info": {
   "codemirror_mode": {
    "name": "ipython",
    "version": 3
   },
   "file_extension": ".py",
   "mimetype": "text/x-python",
   "name": "python",
   "nbconvert_exporter": "python",
   "pygments_lexer": "ipython3",
   "version": "3.9.7"
  }
 },
 "nbformat": 4,
 "nbformat_minor": 5
}
